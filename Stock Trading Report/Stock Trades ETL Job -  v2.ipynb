{
 "cells": [
  {
   "cell_type": "code",
   "execution_count": 1,
   "id": "31245a7f",
   "metadata": {},
   "outputs": [],
   "source": [
    "import boto3\n",
    "import pandas as pd\n",
    "from io import StringIO\n",
    "from datetime import datetime as dt"
   ]
  },
  {
   "cell_type": "code",
   "execution_count": 2,
   "id": "04dfabef",
   "metadata": {},
   "outputs": [],
   "source": [
    "src_bucket = 'etl-p2-data'"
   ]
  },
  {
   "cell_type": "code",
   "execution_count": 3,
   "id": "8dbf4b04",
   "metadata": {},
   "outputs": [],
   "source": [
    "s3 = boto3.resource('s3')\n",
    "bucket = s3.Bucket(src_bucket)\n",
    "objects = [obj for obj in bucket.objects.all()]"
   ]
  },
  {
   "cell_type": "code",
   "execution_count": 4,
   "id": "291d57be",
   "metadata": {},
   "outputs": [],
   "source": [
    "def read_csv_to_df(filename, decoding = 'utf-8', sep = ','):\n",
    "    csv_obj = bucket.Object(key=filename).get().get('Body').read().decode(decoding)\n",
    "    data = StringIO(csv_obj)\n",
    "    df = pd.read_csv(data, delimiter=sep)\n",
    "    return df"
   ]
  },
  {
   "cell_type": "code",
   "execution_count": 5,
   "id": "766a9f02",
   "metadata": {},
   "outputs": [],
   "source": [
    "df_all = pd.concat([read_csv_to_df(obj.key) for obj in objects], ignore_index=True)"
   ]
  },
  {
   "cell_type": "markdown",
   "id": "2503f1c3",
   "metadata": {},
   "source": [
    "### Transformations"
   ]
  },
  {
   "cell_type": "code",
   "execution_count": 6,
   "id": "e5115197",
   "metadata": {},
   "outputs": [],
   "source": [
    "def transformations():\n",
    "    \n",
    "    df_all.dropna(inplace=True)\n",
    "    df_all['date'] = pd.to_datetime(df_all['date'])\n",
    "    df_all = df_all.groupby([ 'symbol', df_all['date'].dt.year], as_index=False).agg(\n",
    "                                                              opening_price=('open', 'min'), \n",
    "                                                              closing_price=('close', 'min'), \n",
    "                                                              minimum_price=('low', 'min'),\n",
    "                                                              maximum_price=('high','max'),\n",
    "                                                              daily_traded_volume=('volume','sum'),\n",
    "                                                              avg_opening_price=('open', 'mean'), \n",
    "                                                              avg_closing_price=('close', 'mean'), \n",
    "                                                              avg_minimum_price=('low', 'mean'),\n",
    "                                                              avg_maximum_price=('high','mean'),\n",
    "                                                              avg_daily_traded_volume=('volume','mean')\n",
    "                                                                                )\n",
    "    df_all['$_change_closing_price'] = df_all['closing_price'] - df_all['opening_price']\n",
    "    df_all['%_change_closing_price'] = (df_all['$_change_closing_price']/df_all['closing_price'])*100\n",
    "    df_all = df_all.round(decimals=2)\n",
    "    \n",
    "    df_all['Year'] = ''\n",
    "    \n",
    "    df_all.loc[df_all.index[range(0,len(df_all),4)], 'Year'] = \"2014\"\n",
    "    df_all.loc[df_all.index[range(1,len(df_all),4)], 'Year'] = \"2015\"\n",
    "    df_all.loc[df_all.index[range(2,len(df_all),4)], 'Year'] = \"2016\"\n",
    "    df_all.loc[df_all.index[range(3,len(df_all),4)], 'Year'] = \"2017\"\n",
    "\n",
    "    cols = list(df_all.columns.values)\n",
    "    cols.insert(1, cols.pop(cols.index('Year')))\n",
    "    df_all = df_all.loc[:, cols]\n",
    "    \n",
    "    return df_all"
   ]
  },
  {
   "cell_type": "code",
   "execution_count": 7,
   "id": "8f24214d",
   "metadata": {},
   "outputs": [
    {
     "ename": "UnboundLocalError",
     "evalue": "local variable 'df_all' referenced before assignment",
     "output_type": "error",
     "traceback": [
      "\u001b[1;31m---------------------------------------------------------------------------\u001b[0m",
      "\u001b[1;31mUnboundLocalError\u001b[0m                         Traceback (most recent call last)",
      "Input \u001b[1;32mIn [7]\u001b[0m, in \u001b[0;36m<cell line: 1>\u001b[1;34m()\u001b[0m\n\u001b[1;32m----> 1\u001b[0m report1 \u001b[38;5;241m=\u001b[39m \u001b[43mtransformations\u001b[49m\u001b[43m(\u001b[49m\u001b[43m)\u001b[49m\n\u001b[0;32m      2\u001b[0m report1\n",
      "Input \u001b[1;32mIn [6]\u001b[0m, in \u001b[0;36mtransformations\u001b[1;34m()\u001b[0m\n\u001b[0;32m      1\u001b[0m \u001b[38;5;28;01mdef\u001b[39;00m \u001b[38;5;21mtransformations\u001b[39m():\n\u001b[1;32m----> 3\u001b[0m     \u001b[43mdf_all\u001b[49m\u001b[38;5;241m.\u001b[39mdropna(inplace\u001b[38;5;241m=\u001b[39m\u001b[38;5;28;01mTrue\u001b[39;00m)\n\u001b[0;32m      4\u001b[0m     df_all[\u001b[38;5;124m'\u001b[39m\u001b[38;5;124mdate\u001b[39m\u001b[38;5;124m'\u001b[39m] \u001b[38;5;241m=\u001b[39m pd\u001b[38;5;241m.\u001b[39mto_datetime(df_all[\u001b[38;5;124m'\u001b[39m\u001b[38;5;124mdate\u001b[39m\u001b[38;5;124m'\u001b[39m])\n\u001b[0;32m      5\u001b[0m     df_all \u001b[38;5;241m=\u001b[39m df_all\u001b[38;5;241m.\u001b[39mgroupby([ \u001b[38;5;124m'\u001b[39m\u001b[38;5;124msymbol\u001b[39m\u001b[38;5;124m'\u001b[39m, df_all[\u001b[38;5;124m'\u001b[39m\u001b[38;5;124mdate\u001b[39m\u001b[38;5;124m'\u001b[39m]\u001b[38;5;241m.\u001b[39mdt\u001b[38;5;241m.\u001b[39myear], as_index\u001b[38;5;241m=\u001b[39m\u001b[38;5;28;01mFalse\u001b[39;00m)\u001b[38;5;241m.\u001b[39magg(\n\u001b[0;32m      6\u001b[0m                                                               opening_price\u001b[38;5;241m=\u001b[39m(\u001b[38;5;124m'\u001b[39m\u001b[38;5;124mopen\u001b[39m\u001b[38;5;124m'\u001b[39m, \u001b[38;5;124m'\u001b[39m\u001b[38;5;124mmin\u001b[39m\u001b[38;5;124m'\u001b[39m), \n\u001b[0;32m      7\u001b[0m                                                               closing_price\u001b[38;5;241m=\u001b[39m(\u001b[38;5;124m'\u001b[39m\u001b[38;5;124mclose\u001b[39m\u001b[38;5;124m'\u001b[39m, \u001b[38;5;124m'\u001b[39m\u001b[38;5;124mmin\u001b[39m\u001b[38;5;124m'\u001b[39m), \n\u001b[1;32m   (...)\u001b[0m\n\u001b[0;32m     15\u001b[0m                                                               avg_daily_traded_volume\u001b[38;5;241m=\u001b[39m(\u001b[38;5;124m'\u001b[39m\u001b[38;5;124mvolume\u001b[39m\u001b[38;5;124m'\u001b[39m,\u001b[38;5;124m'\u001b[39m\u001b[38;5;124mmean\u001b[39m\u001b[38;5;124m'\u001b[39m)\n\u001b[0;32m     16\u001b[0m                                                                                 )\n",
      "\u001b[1;31mUnboundLocalError\u001b[0m: local variable 'df_all' referenced before assignment"
     ]
    }
   ],
   "source": [
    "report1 = transformations()\n",
    "report1"
   ]
  },
  {
   "cell_type": "markdown",
   "id": "31b4cacf",
   "metadata": {},
   "source": [
    "### Write to s3"
   ]
  },
  {
   "cell_type": "code",
   "execution_count": null,
   "id": "51997187",
   "metadata": {},
   "outputs": [],
   "source": [
    "def write_to_s3():\n",
    "    bucket = 'etl-p2-storage'\n",
    "    file_name = 'stock_data_cleansed_' + dt.today().strftime(\"%Y%m%d_%H:%M:%S\") + '.csv'\n",
    "    \n",
    "    csv_buffer = StringIO()\n",
    "    report1.to_csv(csv_buffer)\n",
    "    \n",
    "    s3.Object(bucket, file_name).put(Body=csv_buffer.getvalue())"
   ]
  },
  {
   "cell_type": "code",
   "execution_count": null,
   "id": "87b1fdcc",
   "metadata": {},
   "outputs": [],
   "source": [
    "write_to_s3()"
   ]
  },
  {
   "cell_type": "code",
   "execution_count": null,
   "id": "48ea19db",
   "metadata": {},
   "outputs": [],
   "source": []
  }
 ],
 "metadata": {
  "kernelspec": {
   "display_name": "Python 3 (ipykernel)",
   "language": "python",
   "name": "python3"
  },
  "language_info": {
   "codemirror_mode": {
    "name": "ipython",
    "version": 3
   },
   "file_extension": ".py",
   "mimetype": "text/x-python",
   "name": "python",
   "nbconvert_exporter": "python",
   "pygments_lexer": "ipython3",
   "version": "3.9.12"
  }
 },
 "nbformat": 4,
 "nbformat_minor": 5
}
