{
 "cells": [
  {
   "cell_type": "code",
   "execution_count": 1,
   "id": "31245a7f",
   "metadata": {},
   "outputs": [],
   "source": [
    "import boto3\n",
    "import pandas as pd\n",
    "from io import StringIO\n",
    "from datetime import datetime as dt"
   ]
  },
  {
   "cell_type": "code",
   "execution_count": 2,
   "id": "04dfabef",
   "metadata": {},
   "outputs": [],
   "source": [
    "src_bucket = 'etl-p2-data'"
   ]
  },
  {
   "cell_type": "code",
   "execution_count": 3,
   "id": "8dbf4b04",
   "metadata": {},
   "outputs": [],
   "source": [
    "s3 = boto3.resource('s3')\n",
    "bucket = s3.Bucket(src_bucket)\n",
    "objects = [obj for obj in bucket.objects.all()]"
   ]
  },
  {
   "cell_type": "code",
   "execution_count": 4,
   "id": "291d57be",
   "metadata": {},
   "outputs": [],
   "source": [
    "def csv_to_df(filename):\n",
    "    csv_obj = bucket.Object(key=filename).get().get('Body').read().decode('utf-8')\n",
    "    data = StringIO(csv_obj)\n",
    "    df = pd.read_csv(data, delimiter=',')\n",
    "    return df\n",
    "\n",
    "df_all = pd.concat([csv_to_df(obj.key) for obj in objects], ignore_index=True)\n",
    "df_all.dropna(inplace=True)"
   ]
  },
  {
   "cell_type": "markdown",
   "id": "2503f1c3",
   "metadata": {},
   "source": [
    "### Transformations"
   ]
  },
  {
   "cell_type": "code",
   "execution_count": 5,
   "id": "e5115197",
   "metadata": {},
   "outputs": [],
   "source": [
    "df_all['date'] = pd.to_datetime(df_all['date'])"
   ]
  },
  {
   "cell_type": "code",
   "execution_count": 6,
   "id": "f057eba1",
   "metadata": {},
   "outputs": [],
   "source": [
    "\n",
    "df_all = df_all.groupby([ 'symbol', df_all['date'].dt.year], as_index=False).agg(\n",
    "                                                              opening_price=('open', 'min'), \n",
    "                                                              closing_price=('close', 'min'), \n",
    "                                                              minimum_price=('low', 'min'),\n",
    "                                                              maximum_price=('high','max'),\n",
    "                                                              daily_traded_volume=('volume','sum'),\n",
    "                                                              avg_opening_price=('open', 'mean'), \n",
    "                                                              avg_closing_price=('close', 'mean'), \n",
    "                                                              avg_minimum_price=('low', 'mean'),\n",
    "                                                              avg_maximum_price=('high','mean'),\n",
    "                                                              avg_daily_traded_volume=('volume','mean')\n",
    "                                                                                )"
   ]
  },
  {
   "cell_type": "code",
   "execution_count": 7,
   "id": "c7feb5da",
   "metadata": {},
   "outputs": [],
   "source": [
    "df_all['$_change_closing_price'] = df_all['closing_price'] - df_all['opening_price']"
   ]
  },
  {
   "cell_type": "code",
   "execution_count": 8,
   "id": "6a364cc3",
   "metadata": {},
   "outputs": [],
   "source": [
    "df_all['%_change_closing_price'] = (df_all['$_change_closing_price']/df_all['closing_price'])*100\n"
   ]
  },
  {
   "cell_type": "code",
   "execution_count": 9,
   "id": "4060c41e",
   "metadata": {},
   "outputs": [],
   "source": [
    "df_all = df_all.round(decimals=2)"
   ]
  },
  {
   "cell_type": "code",
   "execution_count": 10,
   "id": "90b47283",
   "metadata": {},
   "outputs": [],
   "source": [
    "df_all['Year'] = ''"
   ]
  },
  {
   "cell_type": "code",
   "execution_count": 11,
   "id": "20bae984",
   "metadata": {},
   "outputs": [],
   "source": [
    "df_all.loc[df_all.index[range(0,len(df_all),4)], 'Year'] = \"2014\""
   ]
  },
  {
   "cell_type": "code",
   "execution_count": 12,
   "id": "1b4c7b81",
   "metadata": {},
   "outputs": [],
   "source": [
    "df_all.loc[df_all.index[range(1,len(df_all),4)], 'Year'] = \"2015\""
   ]
  },
  {
   "cell_type": "code",
   "execution_count": 13,
   "id": "facbf866",
   "metadata": {},
   "outputs": [],
   "source": [
    "df_all.loc[df_all.index[range(2,len(df_all),4)], 'Year'] = \"2016\""
   ]
  },
  {
   "cell_type": "code",
   "execution_count": 14,
   "id": "1b03ae62",
   "metadata": {},
   "outputs": [],
   "source": [
    "df_all.loc[df_all.index[range(3,len(df_all),4)], 'Year'] = \"2017\""
   ]
  },
  {
   "cell_type": "code",
   "execution_count": 15,
   "id": "baed38a8",
   "metadata": {},
   "outputs": [],
   "source": [
    "cols = list(df_all.columns.values)\n",
    "cols.insert(1, cols.pop(cols.index('Year')))"
   ]
  },
  {
   "cell_type": "code",
   "execution_count": 16,
   "id": "3bfaba63",
   "metadata": {},
   "outputs": [],
   "source": [
    "df_all = df_all.loc[:, cols]"
   ]
  },
  {
   "cell_type": "code",
   "execution_count": 17,
   "id": "9f5db15c",
   "metadata": {},
   "outputs": [
    {
     "data": {
      "text/html": [
       "<div>\n",
       "<style scoped>\n",
       "    .dataframe tbody tr th:only-of-type {\n",
       "        vertical-align: middle;\n",
       "    }\n",
       "\n",
       "    .dataframe tbody tr th {\n",
       "        vertical-align: top;\n",
       "    }\n",
       "\n",
       "    .dataframe thead th {\n",
       "        text-align: right;\n",
       "    }\n",
       "</style>\n",
       "<table border=\"1\" class=\"dataframe\">\n",
       "  <thead>\n",
       "    <tr style=\"text-align: right;\">\n",
       "      <th></th>\n",
       "      <th>symbol</th>\n",
       "      <th>Year</th>\n",
       "      <th>opening_price</th>\n",
       "      <th>closing_price</th>\n",
       "      <th>minimum_price</th>\n",
       "      <th>maximum_price</th>\n",
       "      <th>daily_traded_volume</th>\n",
       "      <th>avg_opening_price</th>\n",
       "      <th>avg_closing_price</th>\n",
       "      <th>avg_minimum_price</th>\n",
       "      <th>avg_maximum_price</th>\n",
       "      <th>avg_daily_traded_volume</th>\n",
       "      <th>$_change_closing_price</th>\n",
       "      <th>%_change_closing_price</th>\n",
       "    </tr>\n",
       "  </thead>\n",
       "  <tbody>\n",
       "    <tr>\n",
       "      <th>0</th>\n",
       "      <td>A</td>\n",
       "      <td>2014</td>\n",
       "      <td>38.30</td>\n",
       "      <td>38.47</td>\n",
       "      <td>38.09</td>\n",
       "      <td>61.22</td>\n",
       "      <td>572795464</td>\n",
       "      <td>54.12</td>\n",
       "      <td>54.12</td>\n",
       "      <td>53.64</td>\n",
       "      <td>54.58</td>\n",
       "      <td>2272997.87</td>\n",
       "      <td>0.17</td>\n",
       "      <td>0.44</td>\n",
       "    </tr>\n",
       "    <tr>\n",
       "      <th>1</th>\n",
       "      <td>A</td>\n",
       "      <td>2015</td>\n",
       "      <td>33.18</td>\n",
       "      <td>33.37</td>\n",
       "      <td>33.12</td>\n",
       "      <td>43.59</td>\n",
       "      <td>645331754</td>\n",
       "      <td>39.59</td>\n",
       "      <td>39.60</td>\n",
       "      <td>39.23</td>\n",
       "      <td>39.94</td>\n",
       "      <td>2560840.29</td>\n",
       "      <td>0.19</td>\n",
       "      <td>0.57</td>\n",
       "    </tr>\n",
       "    <tr>\n",
       "      <th>2</th>\n",
       "      <td>A</td>\n",
       "      <td>2016</td>\n",
       "      <td>34.21</td>\n",
       "      <td>34.80</td>\n",
       "      <td>34.15</td>\n",
       "      <td>48.63</td>\n",
       "      <td>524961956</td>\n",
       "      <td>43.34</td>\n",
       "      <td>43.37</td>\n",
       "      <td>42.97</td>\n",
       "      <td>43.73</td>\n",
       "      <td>2083182.37</td>\n",
       "      <td>0.59</td>\n",
       "      <td>1.70</td>\n",
       "    </tr>\n",
       "    <tr>\n",
       "      <th>3</th>\n",
       "      <td>A</td>\n",
       "      <td>2017</td>\n",
       "      <td>45.93</td>\n",
       "      <td>46.49</td>\n",
       "      <td>45.74</td>\n",
       "      <td>70.93</td>\n",
       "      <td>464185914</td>\n",
       "      <td>59.33</td>\n",
       "      <td>59.34</td>\n",
       "      <td>58.92</td>\n",
       "      <td>59.73</td>\n",
       "      <td>1849346.27</td>\n",
       "      <td>0.56</td>\n",
       "      <td>1.20</td>\n",
       "    </tr>\n",
       "    <tr>\n",
       "      <th>4</th>\n",
       "      <td>AAL</td>\n",
       "      <td>2014</td>\n",
       "      <td>25.07</td>\n",
       "      <td>25.36</td>\n",
       "      <td>25.06</td>\n",
       "      <td>54.64</td>\n",
       "      <td>3124304404</td>\n",
       "      <td>38.86</td>\n",
       "      <td>38.92</td>\n",
       "      <td>38.23</td>\n",
       "      <td>39.55</td>\n",
       "      <td>12398033.35</td>\n",
       "      <td>0.29</td>\n",
       "      <td>1.14</td>\n",
       "    </tr>\n",
       "    <tr>\n",
       "      <th>...</th>\n",
       "      <td>...</td>\n",
       "      <td>...</td>\n",
       "      <td>...</td>\n",
       "      <td>...</td>\n",
       "      <td>...</td>\n",
       "      <td>...</td>\n",
       "      <td>...</td>\n",
       "      <td>...</td>\n",
       "      <td>...</td>\n",
       "      <td>...</td>\n",
       "      <td>...</td>\n",
       "      <td>...</td>\n",
       "      <td>...</td>\n",
       "      <td>...</td>\n",
       "    </tr>\n",
       "    <tr>\n",
       "      <th>1982</th>\n",
       "      <td>ZION</td>\n",
       "      <td>2016</td>\n",
       "      <td>38.88</td>\n",
       "      <td>38.99</td>\n",
       "      <td>38.43</td>\n",
       "      <td>52.20</td>\n",
       "      <td>623452328</td>\n",
       "      <td>44.27</td>\n",
       "      <td>44.25</td>\n",
       "      <td>43.79</td>\n",
       "      <td>44.71</td>\n",
       "      <td>2483873.82</td>\n",
       "      <td>0.11</td>\n",
       "      <td>0.28</td>\n",
       "    </tr>\n",
       "    <tr>\n",
       "      <th>1983</th>\n",
       "      <td>ZTS</td>\n",
       "      <td>2017</td>\n",
       "      <td>28.48</td>\n",
       "      <td>28.40</td>\n",
       "      <td>28.14</td>\n",
       "      <td>45.24</td>\n",
       "      <td>1015299846</td>\n",
       "      <td>34.03</td>\n",
       "      <td>34.06</td>\n",
       "      <td>33.75</td>\n",
       "      <td>34.33</td>\n",
       "      <td>4028967.64</td>\n",
       "      <td>-0.08</td>\n",
       "      <td>-0.28</td>\n",
       "    </tr>\n",
       "    <tr>\n",
       "      <th>1984</th>\n",
       "      <td>ZTS</td>\n",
       "      <td>2014</td>\n",
       "      <td>40.30</td>\n",
       "      <td>39.65</td>\n",
       "      <td>37.73</td>\n",
       "      <td>55.38</td>\n",
       "      <td>870016319</td>\n",
       "      <td>46.13</td>\n",
       "      <td>46.10</td>\n",
       "      <td>45.56</td>\n",
       "      <td>46.61</td>\n",
       "      <td>3452445.71</td>\n",
       "      <td>-0.65</td>\n",
       "      <td>-1.64</td>\n",
       "    </tr>\n",
       "    <tr>\n",
       "      <th>1985</th>\n",
       "      <td>ZTS</td>\n",
       "      <td>2015</td>\n",
       "      <td>38.98</td>\n",
       "      <td>39.33</td>\n",
       "      <td>38.26</td>\n",
       "      <td>54.15</td>\n",
       "      <td>947876473</td>\n",
       "      <td>47.83</td>\n",
       "      <td>47.83</td>\n",
       "      <td>47.35</td>\n",
       "      <td>48.24</td>\n",
       "      <td>3761414.58</td>\n",
       "      <td>0.35</td>\n",
       "      <td>0.89</td>\n",
       "    </tr>\n",
       "    <tr>\n",
       "      <th>1986</th>\n",
       "      <td>ZTS</td>\n",
       "      <td>2016</td>\n",
       "      <td>52.49</td>\n",
       "      <td>52.51</td>\n",
       "      <td>52.00</td>\n",
       "      <td>73.58</td>\n",
       "      <td>676240752</td>\n",
       "      <td>61.07</td>\n",
       "      <td>61.13</td>\n",
       "      <td>60.70</td>\n",
       "      <td>61.51</td>\n",
       "      <td>2694186.26</td>\n",
       "      <td>0.02</td>\n",
       "      <td>0.04</td>\n",
       "    </tr>\n",
       "  </tbody>\n",
       "</table>\n",
       "<p>1987 rows × 14 columns</p>\n",
       "</div>"
      ],
      "text/plain": [
       "     symbol  Year  opening_price  closing_price  minimum_price  maximum_price  \\\n",
       "0         A  2014          38.30          38.47          38.09          61.22   \n",
       "1         A  2015          33.18          33.37          33.12          43.59   \n",
       "2         A  2016          34.21          34.80          34.15          48.63   \n",
       "3         A  2017          45.93          46.49          45.74          70.93   \n",
       "4       AAL  2014          25.07          25.36          25.06          54.64   \n",
       "...     ...   ...            ...            ...            ...            ...   \n",
       "1982   ZION  2016          38.88          38.99          38.43          52.20   \n",
       "1983    ZTS  2017          28.48          28.40          28.14          45.24   \n",
       "1984    ZTS  2014          40.30          39.65          37.73          55.38   \n",
       "1985    ZTS  2015          38.98          39.33          38.26          54.15   \n",
       "1986    ZTS  2016          52.49          52.51          52.00          73.58   \n",
       "\n",
       "      daily_traded_volume  avg_opening_price  avg_closing_price  \\\n",
       "0               572795464              54.12              54.12   \n",
       "1               645331754              39.59              39.60   \n",
       "2               524961956              43.34              43.37   \n",
       "3               464185914              59.33              59.34   \n",
       "4              3124304404              38.86              38.92   \n",
       "...                   ...                ...                ...   \n",
       "1982            623452328              44.27              44.25   \n",
       "1983           1015299846              34.03              34.06   \n",
       "1984            870016319              46.13              46.10   \n",
       "1985            947876473              47.83              47.83   \n",
       "1986            676240752              61.07              61.13   \n",
       "\n",
       "      avg_minimum_price  avg_maximum_price  avg_daily_traded_volume  \\\n",
       "0                 53.64              54.58               2272997.87   \n",
       "1                 39.23              39.94               2560840.29   \n",
       "2                 42.97              43.73               2083182.37   \n",
       "3                 58.92              59.73               1849346.27   \n",
       "4                 38.23              39.55              12398033.35   \n",
       "...                 ...                ...                      ...   \n",
       "1982              43.79              44.71               2483873.82   \n",
       "1983              33.75              34.33               4028967.64   \n",
       "1984              45.56              46.61               3452445.71   \n",
       "1985              47.35              48.24               3761414.58   \n",
       "1986              60.70              61.51               2694186.26   \n",
       "\n",
       "      $_change_closing_price  %_change_closing_price  \n",
       "0                       0.17                    0.44  \n",
       "1                       0.19                    0.57  \n",
       "2                       0.59                    1.70  \n",
       "3                       0.56                    1.20  \n",
       "4                       0.29                    1.14  \n",
       "...                      ...                     ...  \n",
       "1982                    0.11                    0.28  \n",
       "1983                   -0.08                   -0.28  \n",
       "1984                   -0.65                   -1.64  \n",
       "1985                    0.35                    0.89  \n",
       "1986                    0.02                    0.04  \n",
       "\n",
       "[1987 rows x 14 columns]"
      ]
     },
     "execution_count": 17,
     "metadata": {},
     "output_type": "execute_result"
    }
   ],
   "source": [
    "df_all"
   ]
  },
  {
   "cell_type": "markdown",
   "id": "31b4cacf",
   "metadata": {},
   "source": [
    "### Write to s3"
   ]
  },
  {
   "cell_type": "code",
   "execution_count": null,
   "id": "51997187",
   "metadata": {},
   "outputs": [],
   "source": [
    "bucket = 'etl-p2-storage'\n",
    "file_name = 'stock_data_cleansed_' + dt.today().strftime(\"%Y%m%d_%H:%M:%S\") + '.csv'"
   ]
  },
  {
   "cell_type": "code",
   "execution_count": null,
   "id": "87b1fdcc",
   "metadata": {},
   "outputs": [],
   "source": [
    "csv_buffer = StringIO()\n",
    "df_all.to_csv(csv_buffer)"
   ]
  },
  {
   "cell_type": "code",
   "execution_count": null,
   "id": "48ea19db",
   "metadata": {},
   "outputs": [],
   "source": [
    "s3.Object(bucket, file_name).put(Body=csv_buffer.getvalue())"
   ]
  }
 ],
 "metadata": {
  "kernelspec": {
   "display_name": "Python 3 (ipykernel)",
   "language": "python",
   "name": "python3"
  },
  "language_info": {
   "codemirror_mode": {
    "name": "ipython",
    "version": 3
   },
   "file_extension": ".py",
   "mimetype": "text/x-python",
   "name": "python",
   "nbconvert_exporter": "python",
   "pygments_lexer": "ipython3",
   "version": "3.9.12"
  }
 },
 "nbformat": 4,
 "nbformat_minor": 5
}
