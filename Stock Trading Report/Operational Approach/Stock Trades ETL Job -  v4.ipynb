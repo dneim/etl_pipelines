{
 "cells": [
  {
   "cell_type": "code",
   "execution_count": 1,
   "id": "31245a7f",
   "metadata": {},
   "outputs": [],
   "source": [
    "import boto3\n",
    "import pandas as pd\n",
    "from io import StringIO\n",
    "from datetime import datetime as dt"
   ]
  },
  {
   "cell_type": "code",
   "execution_count": 2,
   "id": "5626a9e5",
   "metadata": {},
   "outputs": [],
   "source": [
    "src_bucket = 'etl-p2-data'\n",
    "    \n",
    "s3 = boto3.resource('s3')\n",
    "bucket = s3.Bucket(src_bucket)\n",
    "objects = [obj for obj in bucket.objects.all()]"
   ]
  },
  {
   "cell_type": "code",
   "execution_count": 3,
   "id": "34c34d92",
   "metadata": {},
   "outputs": [],
   "source": [
    "def list_of_files(bucket):\n",
    "    files = [obj.key for obj in bucket]\n",
    "    return files"
   ]
  },
  {
   "cell_type": "code",
   "execution_count": 4,
   "id": "9fc285b6",
   "metadata": {},
   "outputs": [],
   "source": [
    "def read_csv_to_df(bucket, key, decoding = 'utf-8', sep = ','):\n",
    "    csv_obj = bucket.Object(key=key).get().get('Body').read().decode(decoding)\n",
    "    data = StringIO(csv_obj)\n",
    "    df = pd.read_csv(data, delimiter=sep)\n",
    "    return df"
   ]
  },
  {
   "cell_type": "code",
   "execution_count": 5,
   "id": "1eef4672",
   "metadata": {},
   "outputs": [],
   "source": [
    "def extract(bucket):\n",
    "    files = [key for key in list_of_files(objects)]\n",
    "    # print(files)\n",
    "    df = pd.concat([read_csv_to_df(bucket, obj) for obj in files], ignore_index=True)\n",
    "    return df"
   ]
  },
  {
   "cell_type": "code",
   "execution_count": 7,
   "id": "0f033b11",
   "metadata": {},
   "outputs": [],
   "source": [
    "def transformations(df):\n",
    "    \n",
    "    df.dropna(inplace=True)\n",
    "    df['date'] = pd.to_datetime(df['date'])\n",
    "    df = df.groupby([ 'symbol', df['date'].dt.year], as_index=False).agg(\n",
    "                                                              opening_price=('open', 'min'), \n",
    "                                                              closing_price=('close', 'min'), \n",
    "                                                              minimum_price=('low', 'min'),\n",
    "                                                              maximum_price=('high','max'),\n",
    "                                                              daily_traded_volume=('volume','sum'),\n",
    "                                                              avg_opening_price=('open', 'mean'), \n",
    "                                                              avg_closing_price=('close', 'mean'), \n",
    "                                                              avg_minimum_price=('low', 'mean'),\n",
    "                                                              avg_maximum_price=('high','mean'),\n",
    "                                                              avg_daily_traded_volume=('volume','mean')\n",
    "                                                                                )\n",
    "    df['$_change_closing_price'] = df['closing_price'] - df['opening_price']\n",
    "    df['%_change_closing_price'] = (df['$_change_closing_price']/df['closing_price'])*100\n",
    "    df = df.round(decimals=2)\n",
    "    \n",
    "    df['Year'] = ''\n",
    "    \n",
    "    df.loc[df.index[range(0,len(df),4)], 'Year'] = \"2014\"\n",
    "    df.loc[df.index[range(1,len(df),4)], 'Year'] = \"2015\"\n",
    "    df.loc[df.index[range(2,len(df),4)], 'Year'] = \"2016\"\n",
    "    df.loc[df.index[range(3,len(df),4)], 'Year'] = \"2017\"\n",
    "\n",
    "    cols = list(df.columns.values)\n",
    "    cols.insert(1, cols.pop(cols.index('Year')))\n",
    "    df = df.loc[:, cols]\n",
    "    \n",
    "    return df"
   ]
  },
  {
   "cell_type": "code",
   "execution_count": 8,
   "id": "e508f723",
   "metadata": {},
   "outputs": [],
   "source": [
    "def etl_report():\n",
    "    df = extract(bucket)\n",
    "    df = transformations(df)\n",
    "    \n",
    "    print(df)"
   ]
  },
  {
   "cell_type": "code",
   "execution_count": 10,
   "id": "6977f27e",
   "metadata": {},
   "outputs": [],
   "source": [
    "def main():\n",
    "    src_bucket = 'etl-p2-data'\n",
    "    \n",
    "    s3 = boto3.resource('s3')\n",
    "    bucket = s3.Bucket(src_bucket)\n",
    "    objects = [obj for obj in bucket.objects.all()]\n",
    "    \n",
    "    test_report = etl_report()\n",
    "    print(test_report)"
   ]
  },
  {
   "cell_type": "code",
   "execution_count": 11,
   "id": "9ab744f4",
   "metadata": {},
   "outputs": [
    {
     "name": "stdout",
     "output_type": "stream",
     "text": [
      "     symbol  Year  opening_price  closing_price  minimum_price  maximum_price  \\\n",
      "0         A  2014          38.30          38.47          38.09          61.22   \n",
      "1         A  2015          33.18          33.37          33.12          43.59   \n",
      "2         A  2016          34.21          34.80          34.15          48.63   \n",
      "3         A  2017          45.93          46.49          45.74          70.93   \n",
      "4       AAL  2014          25.07          25.36          25.06          54.64   \n",
      "...     ...   ...            ...            ...            ...            ...   \n",
      "1982   ZION  2016          38.88          38.99          38.43          52.20   \n",
      "1983    ZTS  2017          28.48          28.40          28.14          45.24   \n",
      "1984    ZTS  2014          40.30          39.65          37.73          55.38   \n",
      "1985    ZTS  2015          38.98          39.33          38.26          54.15   \n",
      "1986    ZTS  2016          52.49          52.51          52.00          73.58   \n",
      "\n",
      "      daily_traded_volume  avg_opening_price  avg_closing_price  \\\n",
      "0               572795464              54.12              54.12   \n",
      "1               645331754              39.59              39.60   \n",
      "2               524961956              43.34              43.37   \n",
      "3               464185914              59.33              59.34   \n",
      "4              3124304404              38.86              38.92   \n",
      "...                   ...                ...                ...   \n",
      "1982            623452328              44.27              44.25   \n",
      "1983           1015299846              34.03              34.06   \n",
      "1984            870016319              46.13              46.10   \n",
      "1985            947876473              47.83              47.83   \n",
      "1986            676240752              61.07              61.13   \n",
      "\n",
      "      avg_minimum_price  avg_maximum_price  avg_daily_traded_volume  \\\n",
      "0                 53.64              54.58               2272997.87   \n",
      "1                 39.23              39.94               2560840.29   \n",
      "2                 42.97              43.73               2083182.37   \n",
      "3                 58.92              59.73               1849346.27   \n",
      "4                 38.23              39.55              12398033.35   \n",
      "...                 ...                ...                      ...   \n",
      "1982              43.79              44.71               2483873.82   \n",
      "1983              33.75              34.33               4028967.64   \n",
      "1984              45.56              46.61               3452445.71   \n",
      "1985              47.35              48.24               3761414.58   \n",
      "1986              60.70              61.51               2694186.26   \n",
      "\n",
      "      $_change_closing_price  %_change_closing_price  \n",
      "0                       0.17                    0.44  \n",
      "1                       0.19                    0.57  \n",
      "2                       0.59                    1.70  \n",
      "3                       0.56                    1.20  \n",
      "4                       0.29                    1.14  \n",
      "...                      ...                     ...  \n",
      "1982                    0.11                    0.28  \n",
      "1983                   -0.08                   -0.28  \n",
      "1984                   -0.65                   -1.64  \n",
      "1985                    0.35                    0.89  \n",
      "1986                    0.02                    0.04  \n",
      "\n",
      "[1987 rows x 14 columns]\n",
      "None\n"
     ]
    }
   ],
   "source": [
    "main()"
   ]
  },
  {
   "cell_type": "code",
   "execution_count": null,
   "id": "5492da85",
   "metadata": {},
   "outputs": [],
   "source": []
  }
 ],
 "metadata": {
  "kernelspec": {
   "display_name": "Python 3 (ipykernel)",
   "language": "python",
   "name": "python3"
  },
  "language_info": {
   "codemirror_mode": {
    "name": "ipython",
    "version": 3
   },
   "file_extension": ".py",
   "mimetype": "text/x-python",
   "name": "python",
   "nbconvert_exporter": "python",
   "pygments_lexer": "ipython3",
   "version": "3.9.12"
  }
 },
 "nbformat": 4,
 "nbformat_minor": 5
}
