{
 "cells": [
  {
   "cell_type": "code",
   "execution_count": 23,
   "id": "31245a7f",
   "metadata": {},
   "outputs": [],
   "source": [
    "import boto3\n",
    "import pandas as pd\n",
    "from io import StringIO, BytesIO\n",
    "from datetime import datetime as dt"
   ]
  },
  {
   "cell_type": "code",
   "execution_count": 24,
   "id": "466b2b78",
   "metadata": {},
   "outputs": [],
   "source": [
    "def list_of_files(bucket):\n",
    "    files = [obj.key for obj in bucket]\n",
    "    return files\n",
    "\n",
    "def read_csv_to_df(bucket, key, decoding = 'utf-8', sep = ','):\n",
    "    csv_obj = bucket.Object(key=key).get().get('Body').read().decode(decoding)\n",
    "    data = StringIO(csv_obj)\n",
    "    df = pd.read_csv(data, delimiter=sep)\n",
    "    return df\n",
    "\n",
    "def write_df_to_s3(s3, bucket_trg, df, file_name):\n",
    "    csv_buffer = StringIO()\n",
    "    df.to_csv(csv_buffer)\n",
    "    s3.Object(bucket_trg, file_name).put(Body=csv_buffer.getvalue())\n",
    "    return True"
   ]
  },
  {
   "cell_type": "code",
   "execution_count": 96,
   "id": "4db7a2b9",
   "metadata": {},
   "outputs": [],
   "source": [
    "def update_local_log():\n",
    "    df = pd.read_csv('write_log.csv')\n",
    "    filename = 'stock_data_cleansed_' + dt.today().strftime(\"%Y%m%d_%H:%M:%S\") + '.csv'\n",
    "    timestamp = filename[20:37]\n",
    "    df.loc[len(df.index)] = [filename,timestamp]\n",
    "    \n",
    "    #new_row = {'file_name': filename, 'upload_timestamp':timestamp}\n",
    "    #df_all = df.append(new_row)\n",
    "    \n",
    "    df.to_csv('write_log.csv', index=False)\n",
    "    return df"
   ]
  },
  {
   "cell_type": "code",
   "execution_count": 98,
   "id": "b1a32575",
   "metadata": {},
   "outputs": [],
   "source": [
    "file_path = 'write_log.csv'\n",
    "log_key = 'write_log.csv'\n",
    "bucket_name_trg = 'etl-p2-storage'\n",
    "s3_client = boto3.client('s3')\n",
    "\n",
    "def update_s3_log(s3, file_path, bucket, key):\n",
    "    s3_client.upload_file(file_path, bucket, key)"
   ]
  },
  {
   "cell_type": "code",
   "execution_count": 99,
   "id": "10b654be",
   "metadata": {},
   "outputs": [],
   "source": [
    "update_s3_log(s3, file_path, bucket_name_trg, log_key)"
   ]
  },
  {
   "cell_type": "code",
   "execution_count": 42,
   "id": "bfd849aa",
   "metadata": {},
   "outputs": [],
   "source": [
    "def extract(bucket, objects):\n",
    "    files = [key for key in list_of_files(objects)]\n",
    "    # print(files)\n",
    "    df = pd.concat([read_csv_to_df(bucket, obj) for obj in files], ignore_index=True)\n",
    "    return df\n",
    "\n",
    "def transformations(df):\n",
    "    \n",
    "    df.dropna(inplace=True)\n",
    "    df['date'] = pd.to_datetime(df['date'])\n",
    "    df = df.groupby([ 'symbol', df['date'].dt.year], as_index=False).agg(\n",
    "                                                              opening_price=('open', 'min'), \n",
    "                                                              closing_price=('close', 'min'), \n",
    "                                                              minimum_price=('low', 'min'),\n",
    "                                                              maximum_price=('high','max'),\n",
    "                                                              daily_traded_volume=('volume','sum'),\n",
    "                                                              avg_opening_price=('open', 'mean'), \n",
    "                                                              avg_closing_price=('close', 'mean'), \n",
    "                                                              avg_minimum_price=('low', 'mean'),\n",
    "                                                              avg_maximum_price=('high','mean'),\n",
    "                                                              avg_daily_traded_volume=('volume','mean')\n",
    "                                                                                )\n",
    "    df['$_change_closing_price'] = df['closing_price'] - df['opening_price']\n",
    "    df['%_change_closing_price'] = (df['$_change_closing_price']/df['closing_price'])*100\n",
    "    df = df.round(decimals=2)\n",
    "    \n",
    "    df['Year'] = ''\n",
    "    \n",
    "    df.loc[df.index[range(0,len(df),4)], 'Year'] = \"2014\"\n",
    "    df.loc[df.index[range(1,len(df),4)], 'Year'] = \"2015\"\n",
    "    df.loc[df.index[range(2,len(df),4)], 'Year'] = \"2016\"\n",
    "    df.loc[df.index[range(3,len(df),4)], 'Year'] = \"2017\"\n",
    "\n",
    "    cols = list(df.columns.values)\n",
    "    cols.insert(1, cols.pop(cols.index('Year')))\n",
    "    df = df.loc[:, cols]\n",
    "    \n",
    "    return df\n",
    "\n",
    "def load(s3, bucket_trg, df):\n",
    "    file_name = 'stock_data_cleansed_' + dt.today().strftime(\"%Y%m%d_%H:%M:%S\") + '.csv'\n",
    "    write_df_to_s3(s3, bucket_trg, df, file_name)\n",
    "    \n",
    "\n",
    "def etl_report(s3, bucket, bucket_trg, objects):\n",
    "    df = extract(bucket, objects)\n",
    "    df = transformations(df)\n",
    "    load(s3, bucket_trg, df)\n",
    "    log_update()"
   ]
  },
  {
   "cell_type": "code",
   "execution_count": 43,
   "id": "a5c32ee7",
   "metadata": {},
   "outputs": [],
   "source": [
    "def main():\n",
    "    src_bucket = 'etl-p2-data'\n",
    "    trg_bucket = 'etl-p2-storage'\n",
    "    \n",
    "    s3 = boto3.resource('s3')\n",
    "    bucket = s3.Bucket(src_bucket)\n",
    "    objects = [obj for obj in bucket.objects.all()]\n",
    "    \n",
    "    test_report = etl_report(s3, bucket, trg_bucket, objects)"
   ]
  },
  {
   "cell_type": "code",
   "execution_count": 44,
   "id": "1fedc528",
   "metadata": {},
   "outputs": [],
   "source": [
    "main()"
   ]
  },
  {
   "cell_type": "code",
   "execution_count": null,
   "id": "cfa0b40a",
   "metadata": {},
   "outputs": [],
   "source": []
  }
 ],
 "metadata": {
  "kernelspec": {
   "display_name": "Python 3 (ipykernel)",
   "language": "python",
   "name": "python3"
  },
  "language_info": {
   "codemirror_mode": {
    "name": "ipython",
    "version": 3
   },
   "file_extension": ".py",
   "mimetype": "text/x-python",
   "name": "python",
   "nbconvert_exporter": "python",
   "pygments_lexer": "ipython3",
   "version": "3.9.12"
  }
 },
 "nbformat": 4,
 "nbformat_minor": 5
}
