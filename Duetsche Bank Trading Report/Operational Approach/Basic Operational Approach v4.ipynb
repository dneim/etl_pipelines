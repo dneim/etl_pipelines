{
 "cells": [
  {
   "cell_type": "code",
   "execution_count": 1,
   "id": "eda4cf76",
   "metadata": {},
   "outputs": [],
   "source": [
    "# v4: Parametizes all str inputs, restructures the code for readability and Pythonic syntax"
   ]
  },
  {
   "cell_type": "code",
   "execution_count": 1,
   "id": "9bd01b27",
   "metadata": {},
   "outputs": [],
   "source": [
    "import boto3\n",
    "import pandas as pd\n",
    "from io import StringIO, BytesIO\n",
    "from datetime import datetime as dt\n",
    "from datetime import timedelta as td"
   ]
  },
  {
   "cell_type": "code",
   "execution_count": 2,
   "id": "96e28c72",
   "metadata": {},
   "outputs": [],
   "source": [
    "arg_date = '2022-12-28'\n",
    "src_format = '%Y-%m-%d'\n",
    "src_bucket = 'xetra-1234'\n",
    "trg_bucket = 'etl-project-data'\n",
    "columns = ['ISIN', 'Date', 'Time', 'StartPrice', 'MaxPrice', 'MinPrice', 'EndPrice', 'TradedVolume']\n",
    "key = 'xetra_daily_report_' + dt.today().strftime(\"%Y%m%d_%H:%M:%S\") + '.parquet'"
   ]
  },
  {
   "cell_type": "code",
   "execution_count": 3,
   "id": "d6adc1e5",
   "metadata": {},
   "outputs": [],
   "source": [
    "arg_date_dt = dt.strptime(arg_date, src_format).date() - td(days=1)"
   ]
  },
  {
   "cell_type": "code",
   "execution_count": 4,
   "id": "d66449c4",
   "metadata": {},
   "outputs": [],
   "source": [
    "s3 = boto3.resource('s3')\n",
    "bucket = s3.Bucket(src_bucket)\n",
    "objects = [obj for obj in bucket.objects.all() if dt.strptime(obj.key.split('/')[0], src_format).date() >= arg_date_dt]"
   ]
  },
  {
   "cell_type": "code",
   "execution_count": 5,
   "id": "677c0841",
   "metadata": {},
   "outputs": [],
   "source": [
    "def csv_to_df(filename):\n",
    "    csv_obj = bucket.Object(key=filename).get().get('Body').read().decode('utf-8')\n",
    "    data = StringIO(csv_obj)\n",
    "    df = pd.read_csv(data, delimiter=',')\n",
    "    return df\n",
    "\n",
    "df_all = pd.concat([csv_to_df(obj.key) for obj in objects], ignore_index=True)"
   ]
  },
  {
   "cell_type": "code",
   "execution_count": 6,
   "id": "ac20f22c",
   "metadata": {},
   "outputs": [],
   "source": [
    "df_all = df_all.loc[:, columns]"
   ]
  },
  {
   "cell_type": "code",
   "execution_count": 7,
   "id": "0ac276d2",
   "metadata": {},
   "outputs": [],
   "source": [
    "df_all.dropna(inplace=True)"
   ]
  },
  {
   "cell_type": "markdown",
   "id": "3c682c89",
   "metadata": {},
   "source": [
    "## Transformations"
   ]
  },
  {
   "cell_type": "markdown",
   "id": "ef1c174e",
   "metadata": {},
   "source": [
    "### Get opening price per ISIN and day"
   ]
  },
  {
   "cell_type": "code",
   "execution_count": 8,
   "id": "25e9ddcc",
   "metadata": {},
   "outputs": [],
   "source": [
    "df_all['OpeningPrice'] = df_all.sort_values(by=['Time']).groupby(['ISIN', 'Date'])['StartPrice'].transform('first')"
   ]
  },
  {
   "cell_type": "markdown",
   "id": "e4afdb1a",
   "metadata": {},
   "source": [
    "### Get closing price per ISIN and day"
   ]
  },
  {
   "cell_type": "code",
   "execution_count": 9,
   "id": "2cd1bbd2",
   "metadata": {},
   "outputs": [],
   "source": [
    "df_all['ClosingPrice'] = df_all.sort_values(by=['Time']).groupby(['ISIN', 'Date'])['EndPrice'].transform('last')"
   ]
  },
  {
   "cell_type": "code",
   "execution_count": 10,
   "id": "2e64d639",
   "metadata": {},
   "outputs": [
    {
     "data": {
      "text/html": [
       "<div>\n",
       "<style scoped>\n",
       "    .dataframe tbody tr th:only-of-type {\n",
       "        vertical-align: middle;\n",
       "    }\n",
       "\n",
       "    .dataframe tbody tr th {\n",
       "        vertical-align: top;\n",
       "    }\n",
       "\n",
       "    .dataframe thead th {\n",
       "        text-align: right;\n",
       "    }\n",
       "</style>\n",
       "<table border=\"1\" class=\"dataframe\">\n",
       "  <thead>\n",
       "    <tr style=\"text-align: right;\">\n",
       "      <th></th>\n",
       "      <th>ISIN</th>\n",
       "      <th>Date</th>\n",
       "      <th>Time</th>\n",
       "      <th>StartPrice</th>\n",
       "      <th>MaxPrice</th>\n",
       "      <th>MinPrice</th>\n",
       "      <th>EndPrice</th>\n",
       "      <th>TradedVolume</th>\n",
       "      <th>OpeningPrice</th>\n",
       "      <th>ClosingPrice</th>\n",
       "    </tr>\n",
       "  </thead>\n",
       "  <tbody>\n",
       "    <tr>\n",
       "      <th>0</th>\n",
       "      <td>AT0000A0E9W5</td>\n",
       "      <td>2022-12-27</td>\n",
       "      <td>08:00</td>\n",
       "      <td>14.02</td>\n",
       "      <td>14.27</td>\n",
       "      <td>14.02</td>\n",
       "      <td>14.27</td>\n",
       "      <td>1466</td>\n",
       "      <td>14.02</td>\n",
       "      <td>14.01</td>\n",
       "    </tr>\n",
       "    <tr>\n",
       "      <th>1</th>\n",
       "      <td>DE000A0D6554</td>\n",
       "      <td>2022-12-27</td>\n",
       "      <td>08:00</td>\n",
       "      <td>13.84</td>\n",
       "      <td>13.85</td>\n",
       "      <td>13.79</td>\n",
       "      <td>13.82</td>\n",
       "      <td>26486</td>\n",
       "      <td>13.84</td>\n",
       "      <td>14.01</td>\n",
       "    </tr>\n",
       "    <tr>\n",
       "      <th>2</th>\n",
       "      <td>DE000A0D9PT0</td>\n",
       "      <td>2022-12-27</td>\n",
       "      <td>08:00</td>\n",
       "      <td>197.35</td>\n",
       "      <td>197.55</td>\n",
       "      <td>197.0</td>\n",
       "      <td>197.25</td>\n",
       "      <td>2150</td>\n",
       "      <td>197.35</td>\n",
       "      <td>209.7</td>\n",
       "    </tr>\n",
       "    <tr>\n",
       "      <th>3</th>\n",
       "      <td>DE000A0JL9W6</td>\n",
       "      <td>2022-12-27</td>\n",
       "      <td>08:00</td>\n",
       "      <td>63.0</td>\n",
       "      <td>63.25</td>\n",
       "      <td>62.9</td>\n",
       "      <td>62.9</td>\n",
       "      <td>2077</td>\n",
       "      <td>63.0</td>\n",
       "      <td>66.25</td>\n",
       "    </tr>\n",
       "    <tr>\n",
       "      <th>4</th>\n",
       "      <td>DE000A0LD6E6</td>\n",
       "      <td>2022-12-27</td>\n",
       "      <td>08:00</td>\n",
       "      <td>65.6</td>\n",
       "      <td>65.6</td>\n",
       "      <td>65.6</td>\n",
       "      <td>65.6</td>\n",
       "      <td>1801</td>\n",
       "      <td>65.6</td>\n",
       "      <td>65.95</td>\n",
       "    </tr>\n",
       "    <tr>\n",
       "      <th>...</th>\n",
       "      <td>...</td>\n",
       "      <td>...</td>\n",
       "      <td>...</td>\n",
       "      <td>...</td>\n",
       "      <td>...</td>\n",
       "      <td>...</td>\n",
       "      <td>...</td>\n",
       "      <td>...</td>\n",
       "      <td>...</td>\n",
       "      <td>...</td>\n",
       "    </tr>\n",
       "    <tr>\n",
       "      <th>664085</th>\n",
       "      <td>GB00BLD4ZP54</td>\n",
       "      <td>2022-12-31</td>\n",
       "      <td>16:46</td>\n",
       "      <td>19.324</td>\n",
       "      <td>19.324</td>\n",
       "      <td>19.324</td>\n",
       "      <td>19.324</td>\n",
       "      <td>0</td>\n",
       "      <td>18.508</td>\n",
       "      <td>19.324</td>\n",
       "    </tr>\n",
       "    <tr>\n",
       "      <th>664086</th>\n",
       "      <td>LU1923627332</td>\n",
       "      <td>2022-12-31</td>\n",
       "      <td>16:52</td>\n",
       "      <td>12.4</td>\n",
       "      <td>12.4</td>\n",
       "      <td>12.4</td>\n",
       "      <td>12.4</td>\n",
       "      <td>2645</td>\n",
       "      <td>10.8</td>\n",
       "      <td>12.4</td>\n",
       "    </tr>\n",
       "    <tr>\n",
       "      <th>664087</th>\n",
       "      <td>US98956P1021</td>\n",
       "      <td>2022-12-31</td>\n",
       "      <td>20:30</td>\n",
       "      <td>113.1</td>\n",
       "      <td>113.1</td>\n",
       "      <td>113.1</td>\n",
       "      <td>113.1</td>\n",
       "      <td>0</td>\n",
       "      <td>112.5</td>\n",
       "      <td>113.1</td>\n",
       "    </tr>\n",
       "    <tr>\n",
       "      <th>664088</th>\n",
       "      <td>US9224171002</td>\n",
       "      <td>2022-12-31</td>\n",
       "      <td>20:30</td>\n",
       "      <td>24.6</td>\n",
       "      <td>24.6</td>\n",
       "      <td>24.6</td>\n",
       "      <td>24.6</td>\n",
       "      <td>0</td>\n",
       "      <td>24.6</td>\n",
       "      <td>24.6</td>\n",
       "    </tr>\n",
       "    <tr>\n",
       "      <th>664089</th>\n",
       "      <td>IT0005143547</td>\n",
       "      <td>2022-12-31</td>\n",
       "      <td>20:30</td>\n",
       "      <td>3.1</td>\n",
       "      <td>3.1</td>\n",
       "      <td>3.1</td>\n",
       "      <td>3.1</td>\n",
       "      <td>0</td>\n",
       "      <td>3.1</td>\n",
       "      <td>3.1</td>\n",
       "    </tr>\n",
       "  </tbody>\n",
       "</table>\n",
       "<p>664090 rows × 10 columns</p>\n",
       "</div>"
      ],
      "text/plain": [
       "                ISIN        Date   Time StartPrice MaxPrice MinPrice EndPrice  \\\n",
       "0       AT0000A0E9W5  2022-12-27  08:00      14.02    14.27    14.02    14.27   \n",
       "1       DE000A0D6554  2022-12-27  08:00      13.84    13.85    13.79    13.82   \n",
       "2       DE000A0D9PT0  2022-12-27  08:00     197.35   197.55    197.0   197.25   \n",
       "3       DE000A0JL9W6  2022-12-27  08:00       63.0    63.25     62.9     62.9   \n",
       "4       DE000A0LD6E6  2022-12-27  08:00       65.6     65.6     65.6     65.6   \n",
       "...              ...         ...    ...        ...      ...      ...      ...   \n",
       "664085  GB00BLD4ZP54  2022-12-31  16:46     19.324   19.324   19.324   19.324   \n",
       "664086  LU1923627332  2022-12-31  16:52       12.4     12.4     12.4     12.4   \n",
       "664087  US98956P1021  2022-12-31  20:30      113.1    113.1    113.1    113.1   \n",
       "664088  US9224171002  2022-12-31  20:30       24.6     24.6     24.6     24.6   \n",
       "664089  IT0005143547  2022-12-31  20:30        3.1      3.1      3.1      3.1   \n",
       "\n",
       "       TradedVolume OpeningPrice ClosingPrice  \n",
       "0              1466        14.02        14.01  \n",
       "1             26486        13.84        14.01  \n",
       "2              2150       197.35        209.7  \n",
       "3              2077         63.0        66.25  \n",
       "4              1801         65.6        65.95  \n",
       "...             ...          ...          ...  \n",
       "664085            0       18.508       19.324  \n",
       "664086         2645         10.8         12.4  \n",
       "664087            0        112.5        113.1  \n",
       "664088            0         24.6         24.6  \n",
       "664089            0          3.1          3.1  \n",
       "\n",
       "[664090 rows x 10 columns]"
      ]
     },
     "execution_count": 10,
     "metadata": {},
     "output_type": "execute_result"
    }
   ],
   "source": [
    "df_all"
   ]
  },
  {
   "cell_type": "markdown",
   "id": "e97f2176",
   "metadata": {},
   "source": [
    "### Aggregations"
   ]
  },
  {
   "cell_type": "code",
   "execution_count": null,
   "id": "804a92d7",
   "metadata": {},
   "outputs": [],
   "source": [
    "df_all = df_all.groupby(['ISIN', 'Date'], as_index=False).agg(opening_price_eur=('OpeningPrice', 'min'), \n",
    "                                                              closing_price_eur=('ClosingPrice', 'min'), \n",
    "                                                              minimum_price_eur=('MinPrice', 'min'),\n",
    "                                                              maximum_price_eru=('MaxPrice','max'),\n",
    "                                                              daily_traded_volume=('TradedVolume','sum'))"
   ]
  },
  {
   "cell_type": "markdown",
   "id": "3d61ed03",
   "metadata": {},
   "source": [
    "### Percent change from previous closing price"
   ]
  },
  {
   "cell_type": "code",
   "execution_count": 12,
   "id": "9c086484",
   "metadata": {},
   "outputs": [],
   "source": [
    "df_all['previous_closing_price'] = df_all.sort_values(by=['Date']).groupby(['ISIN'])['closing_price_eur'].shift(1)"
   ]
  },
  {
   "cell_type": "code",
   "execution_count": 13,
   "id": "2373f30c",
   "metadata": {},
   "outputs": [],
   "source": [
    "df_all['%_change_closing_price'] = (df_all['closing_price_eur'] - df_all['previous_closing_price']) / df_all['previous_closing_price'] * 100"
   ]
  },
  {
   "cell_type": "code",
   "execution_count": 14,
   "id": "d9e3f5ee",
   "metadata": {},
   "outputs": [],
   "source": [
    "df_all.drop(columns=['previous_closing_price'], inplace=True)"
   ]
  },
  {
   "cell_type": "code",
   "execution_count": 15,
   "id": "e0adbe9c",
   "metadata": {},
   "outputs": [],
   "source": [
    "df_all = df_all.round(decimals=2)"
   ]
  },
  {
   "cell_type": "code",
   "execution_count": 16,
   "id": "7e5692ab",
   "metadata": {},
   "outputs": [],
   "source": [
    "df_all = df_all[df_all.Date >= arg_date]"
   ]
  },
  {
   "cell_type": "markdown",
   "id": "6c30768b",
   "metadata": {},
   "source": [
    "## Write to s3"
   ]
  },
  {
   "cell_type": "code",
   "execution_count": 17,
   "id": "3245e88f",
   "metadata": {},
   "outputs": [],
   "source": [
    "out_buffer = BytesIO()"
   ]
  },
  {
   "cell_type": "code",
   "execution_count": 18,
   "id": "3b476bd5",
   "metadata": {},
   "outputs": [],
   "source": [
    "df_all.to_parquet(out_buffer, index=False)"
   ]
  },
  {
   "cell_type": "code",
   "execution_count": 19,
   "id": "69eec3cd",
   "metadata": {},
   "outputs": [
    {
     "data": {
      "text/plain": [
       "s3.Object(bucket_name='etl-project-data', key='xetra_daily_report_20230213_21:40:47.parquet')"
      ]
     },
     "execution_count": 19,
     "metadata": {},
     "output_type": "execute_result"
    }
   ],
   "source": [
    "bucket_target = s3.Bucket(trg_bucket)\n",
    "bucket_target.put_object(Body=out_buffer.getvalue(), Key=key)"
   ]
  },
  {
   "cell_type": "markdown",
   "id": "4ed5284d",
   "metadata": {},
   "source": [
    "## Review contents of uploaded file to verify proper publishing"
   ]
  },
  {
   "cell_type": "code",
   "execution_count": 21,
   "id": "152755e8",
   "metadata": {
    "scrolled": true
   },
   "outputs": [
    {
     "name": "stdout",
     "output_type": "stream",
     "text": [
      "xetra_daily_report_20230213_21:12:18.parquet\n",
      "xetra_daily_report_20230213_21:40:47.parquet\n"
     ]
    }
   ],
   "source": [
    "for obj in bucket_target.objects.all():\n",
    "    print(obj.key)"
   ]
  },
  {
   "cell_type": "code",
   "execution_count": 22,
   "id": "92632a7f",
   "metadata": {},
   "outputs": [],
   "source": [
    "prq_obj = bucket_target.Object(key='xetra_daily_report_20230213_21:40:47.parquet').get().get('Body').read()\n",
    "data = BytesIO(prq_obj)\n",
    "df_report = pd.read_parquet(data)"
   ]
  },
  {
   "cell_type": "code",
   "execution_count": 23,
   "id": "3f4cf8dd",
   "metadata": {},
   "outputs": [
    {
     "data": {
      "text/html": [
       "<div>\n",
       "<style scoped>\n",
       "    .dataframe tbody tr th:only-of-type {\n",
       "        vertical-align: middle;\n",
       "    }\n",
       "\n",
       "    .dataframe tbody tr th {\n",
       "        vertical-align: top;\n",
       "    }\n",
       "\n",
       "    .dataframe thead th {\n",
       "        text-align: right;\n",
       "    }\n",
       "</style>\n",
       "<table border=\"1\" class=\"dataframe\">\n",
       "  <thead>\n",
       "    <tr style=\"text-align: right;\">\n",
       "      <th></th>\n",
       "      <th>ISIN</th>\n",
       "      <th>Date</th>\n",
       "      <th>opening_price_eur</th>\n",
       "      <th>closing_price_eur</th>\n",
       "      <th>minimum_price_eur</th>\n",
       "      <th>maximum_price_eru</th>\n",
       "      <th>daily_traded_volume</th>\n",
       "      <th>%_change_closing_price</th>\n",
       "    </tr>\n",
       "  </thead>\n",
       "  <tbody>\n",
       "    <tr>\n",
       "      <th>0</th>\n",
       "      <td>AT000000STR1</td>\n",
       "      <td>2022-12-28</td>\n",
       "      <td>36.60</td>\n",
       "      <td>36.70</td>\n",
       "      <td>35.75</td>\n",
       "      <td>36.70</td>\n",
       "      <td>1773</td>\n",
       "      <td>-2.65</td>\n",
       "    </tr>\n",
       "    <tr>\n",
       "      <th>1</th>\n",
       "      <td>AT000000STR1</td>\n",
       "      <td>2022-12-29</td>\n",
       "      <td>36.60</td>\n",
       "      <td>36.70</td>\n",
       "      <td>35.75</td>\n",
       "      <td>36.70</td>\n",
       "      <td>1773</td>\n",
       "      <td>0.00</td>\n",
       "    </tr>\n",
       "    <tr>\n",
       "      <th>2</th>\n",
       "      <td>AT000000STR1</td>\n",
       "      <td>2022-12-30</td>\n",
       "      <td>36.60</td>\n",
       "      <td>36.70</td>\n",
       "      <td>35.75</td>\n",
       "      <td>36.70</td>\n",
       "      <td>1773</td>\n",
       "      <td>0.00</td>\n",
       "    </tr>\n",
       "    <tr>\n",
       "      <th>3</th>\n",
       "      <td>AT000000STR1</td>\n",
       "      <td>2022-12-31</td>\n",
       "      <td>36.60</td>\n",
       "      <td>36.70</td>\n",
       "      <td>35.75</td>\n",
       "      <td>36.70</td>\n",
       "      <td>1773</td>\n",
       "      <td>0.00</td>\n",
       "    </tr>\n",
       "    <tr>\n",
       "      <th>4</th>\n",
       "      <td>AT00000FACC2</td>\n",
       "      <td>2022-12-28</td>\n",
       "      <td>8.05</td>\n",
       "      <td>8.57</td>\n",
       "      <td>7.87</td>\n",
       "      <td>8.57</td>\n",
       "      <td>10205</td>\n",
       "      <td>2.51</td>\n",
       "    </tr>\n",
       "    <tr>\n",
       "      <th>...</th>\n",
       "      <td>...</td>\n",
       "      <td>...</td>\n",
       "      <td>...</td>\n",
       "      <td>...</td>\n",
       "      <td>...</td>\n",
       "      <td>...</td>\n",
       "      <td>...</td>\n",
       "      <td>...</td>\n",
       "    </tr>\n",
       "    <tr>\n",
       "      <th>12923</th>\n",
       "      <td>XS2376095068</td>\n",
       "      <td>2022-12-31</td>\n",
       "      <td>34.29</td>\n",
       "      <td>36.50</td>\n",
       "      <td>34.06</td>\n",
       "      <td>36.50</td>\n",
       "      <td>1000</td>\n",
       "      <td>0.00</td>\n",
       "    </tr>\n",
       "    <tr>\n",
       "      <th>12924</th>\n",
       "      <td>XS2434891219</td>\n",
       "      <td>2022-12-28</td>\n",
       "      <td>3.44</td>\n",
       "      <td>3.66</td>\n",
       "      <td>3.42</td>\n",
       "      <td>3.66</td>\n",
       "      <td>0</td>\n",
       "      <td>4.53</td>\n",
       "    </tr>\n",
       "    <tr>\n",
       "      <th>12925</th>\n",
       "      <td>XS2434891219</td>\n",
       "      <td>2022-12-29</td>\n",
       "      <td>3.44</td>\n",
       "      <td>3.66</td>\n",
       "      <td>3.42</td>\n",
       "      <td>3.66</td>\n",
       "      <td>0</td>\n",
       "      <td>0.00</td>\n",
       "    </tr>\n",
       "    <tr>\n",
       "      <th>12926</th>\n",
       "      <td>XS2434891219</td>\n",
       "      <td>2022-12-30</td>\n",
       "      <td>3.44</td>\n",
       "      <td>3.66</td>\n",
       "      <td>3.42</td>\n",
       "      <td>3.66</td>\n",
       "      <td>0</td>\n",
       "      <td>0.00</td>\n",
       "    </tr>\n",
       "    <tr>\n",
       "      <th>12927</th>\n",
       "      <td>XS2434891219</td>\n",
       "      <td>2022-12-31</td>\n",
       "      <td>3.44</td>\n",
       "      <td>3.66</td>\n",
       "      <td>3.42</td>\n",
       "      <td>3.66</td>\n",
       "      <td>0</td>\n",
       "      <td>0.00</td>\n",
       "    </tr>\n",
       "  </tbody>\n",
       "</table>\n",
       "<p>12928 rows × 8 columns</p>\n",
       "</div>"
      ],
      "text/plain": [
       "               ISIN        Date  opening_price_eur  closing_price_eur  \\\n",
       "0      AT000000STR1  2022-12-28              36.60              36.70   \n",
       "1      AT000000STR1  2022-12-29              36.60              36.70   \n",
       "2      AT000000STR1  2022-12-30              36.60              36.70   \n",
       "3      AT000000STR1  2022-12-31              36.60              36.70   \n",
       "4      AT00000FACC2  2022-12-28               8.05               8.57   \n",
       "...             ...         ...                ...                ...   \n",
       "12923  XS2376095068  2022-12-31              34.29              36.50   \n",
       "12924  XS2434891219  2022-12-28               3.44               3.66   \n",
       "12925  XS2434891219  2022-12-29               3.44               3.66   \n",
       "12926  XS2434891219  2022-12-30               3.44               3.66   \n",
       "12927  XS2434891219  2022-12-31               3.44               3.66   \n",
       "\n",
       "       minimum_price_eur  maximum_price_eru  daily_traded_volume  \\\n",
       "0                  35.75              36.70                 1773   \n",
       "1                  35.75              36.70                 1773   \n",
       "2                  35.75              36.70                 1773   \n",
       "3                  35.75              36.70                 1773   \n",
       "4                   7.87               8.57                10205   \n",
       "...                  ...                ...                  ...   \n",
       "12923              34.06              36.50                 1000   \n",
       "12924               3.42               3.66                    0   \n",
       "12925               3.42               3.66                    0   \n",
       "12926               3.42               3.66                    0   \n",
       "12927               3.42               3.66                    0   \n",
       "\n",
       "       %_change_closing_price  \n",
       "0                       -2.65  \n",
       "1                        0.00  \n",
       "2                        0.00  \n",
       "3                        0.00  \n",
       "4                        2.51  \n",
       "...                       ...  \n",
       "12923                    0.00  \n",
       "12924                    4.53  \n",
       "12925                    0.00  \n",
       "12926                    0.00  \n",
       "12927                    0.00  \n",
       "\n",
       "[12928 rows x 8 columns]"
      ]
     },
     "execution_count": 23,
     "metadata": {},
     "output_type": "execute_result"
    }
   ],
   "source": [
    "df_report"
   ]
  }
 ],
 "metadata": {
  "kernelspec": {
   "display_name": "Python 3 (ipykernel)",
   "language": "python",
   "name": "python3"
  },
  "language_info": {
   "codemirror_mode": {
    "name": "ipython",
    "version": 3
   },
   "file_extension": ".py",
   "mimetype": "text/x-python",
   "name": "python",
   "nbconvert_exporter": "python",
   "pygments_lexer": "ipython3",
   "version": "3.9.12"
  }
 },
 "nbformat": 4,
 "nbformat_minor": 5
}
